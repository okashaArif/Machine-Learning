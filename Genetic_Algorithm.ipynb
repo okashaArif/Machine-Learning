{
  "nbformat": 4,
  "nbformat_minor": 0,
  "metadata": {
    "colab": {
      "provenance": []
    },
    "kernelspec": {
      "name": "python3",
      "display_name": "Python 3"
    },
    "language_info": {
      "name": "python"
    }
  },
  "cells": [
    {
      "cell_type": "markdown",
      "source": [
        "Selection"
      ],
      "metadata": {
        "id": "h_RXPyadoxyv"
      }
    },
    {
      "cell_type": "code",
      "source": [
        "import random\n",
        "\n",
        "def roulette_wheel_selection(population, fitness_values):\n",
        "    total_fitness = sum(fitness_values)\n",
        "    selection_probabilities = [fitness / total_fitness for fitness in fitness_values]\n",
        "    cumulative_probabilities = [sum(selection_probabilities[:i+1]) for i in range(len(selection_probabilities))]\n",
        "    rand = random.random()\n",
        "    for i in range(len(cumulative_probabilities)):\n",
        "        if rand < cumulative_probabilities[i]:\n",
        "            return population[i]\n",
        "    return population[-1]\n"
      ],
      "metadata": {
        "id": "A9NLEsGHlg-P"
      },
      "execution_count": null,
      "outputs": []
    },
    {
      "cell_type": "markdown",
      "source": [
        "Crossover"
      ],
      "metadata": {
        "id": "ShXfGGoEx59G"
      }
    },
    {
      "cell_type": "code",
      "source": [
        "def single_point_crossover(parent):\n",
        "  finalList=[]\n",
        "  length=len(parent)\n",
        "  for i in range(0,length-1):\n",
        "    crossover_point = random.randint(1, len(parent[i]))\n",
        "    parent1= parent[i]\n",
        "    parent2= parent[i+1]\n",
        "    child = parent1[:crossover_point] + parent2[crossover_point:]\n",
        "    finalList.append(child)\n",
        "  crossover_point = random.randint(1, len(parent[length-1]))\n",
        "  parent1= parent[length-1]\n",
        "  parent2= parent[length-2]\n",
        "  child = parent1[:crossover_point] + parent2[crossover_point:]\n",
        "  finalList.append(child)\n",
        "  return finalList\n"
      ],
      "metadata": {
        "id": "52lqRl2rosVG"
      },
      "execution_count": null,
      "outputs": []
    },
    {
      "cell_type": "markdown",
      "source": [
        "Mutation"
      ],
      "metadata": {
        "id": "4NLA4xBrx8mB"
      }
    },
    {
      "cell_type": "code",
      "source": [
        "def mutate(chromosome, mutation_rate):\n",
        "    mutated_chromosome = \"\"\n",
        "    for gene in chromosome:\n",
        "        if random.random() < mutation_rate:\n",
        "            mutated_chromosome += str(1 - int(gene))  # Flip the bit\n",
        "        else:\n",
        "            mutated_chromosome += gene\n",
        "    return mutated_chromosome\n",
        "\n",
        "def mutate_population(population, mutation_rate):\n",
        "    mutated_population = []\n",
        "    for chromosome in population:\n",
        "        mutated_population.append(mutate(chromosome, mutation_rate))\n",
        "    return mutated_population\n"
      ],
      "metadata": {
        "id": "StmGde4etbzW"
      },
      "execution_count": null,
      "outputs": []
    },
    {
      "cell_type": "markdown",
      "source": [
        "Fitness"
      ],
      "metadata": {
        "id": "JN1ar6Bx_ROd"
      }
    },
    {
      "cell_type": "code",
      "source": [
        "def fitness(chromosome):\n",
        "    count_ones = chromosome.count('1')\n",
        "    return count_ones / len(chromosome)\n",
        "\n",
        "def calculate_population_fitness(population):\n",
        "    population_fitness = []\n",
        "    for i in population:\n",
        "        population_fitness.append(fitness(i))\n",
        "    return population_fitness\n"
      ],
      "metadata": {
        "id": "bHW1jrJs1HeO"
      },
      "execution_count": null,
      "outputs": []
    },
    {
      "cell_type": "markdown",
      "source": [
        "Gentic Algorithm"
      ],
      "metadata": {
        "id": "VLawltlZDdHY"
      }
    },
    {
      "cell_type": "code",
      "source": [
        "def Genetic_Algorithm(population,fitness_scores,mutation_rate):\n",
        "  selected= int(input(\"Enter the number of items you want to select: \"))\n",
        "  selected_population=[]\n",
        "  for i in range(0,selected):\n",
        "    selected_individual = roulette_wheel_selection(Binary_codes, fitness_scores)\n",
        "    selected_population.append(selected_individual)\n",
        "  print(\"Selected Population= \",selected_population)\n",
        "  final_population=single_point_crossover(selected_population)\n",
        "  print(\"Population After Crossover= \", final_population)\n",
        "  mutated_population= mutate_population(final_population, mutation_rate)\n",
        "  print(\"Population After Mutation= \", mutated_population)\n",
        "  fitness_scores2= calculate_population_fitness(mutated_population)\n",
        "  print(\"Fitness Score= \", fitness_scores2)\n"
      ],
      "metadata": {
        "id": "B7mneDcF_yTh"
      },
      "execution_count": null,
      "outputs": []
    },
    {
      "cell_type": "markdown",
      "source": [
        "BinaryCodes"
      ],
      "metadata": {
        "id": "rmQCwcBU_mLi"
      }
    },
    {
      "cell_type": "code",
      "source": [
        "Binary_codes=['101101','001001','110011','000111','111111']\n",
        "mutation_rate = 0.1\n",
        "fitness_scores = calculate_population_fitness(Binary_codes)\n",
        "Genetic_Algorithm(Binary_codes,fitness_scores,mutation_rate)"
      ],
      "metadata": {
        "colab": {
          "base_uri": "https://localhost:8080/"
        },
        "id": "_UbBxctd_iUH",
        "outputId": "d6b105b1-659e-43e2-919b-09214ed19562"
      },
      "execution_count": null,
      "outputs": [
        {
          "output_type": "stream",
          "name": "stdout",
          "text": [
            "Enter the number of items you want to select: 4\n",
            "Selected Population=  ['111111', '110011', '000111', '111111']\n",
            "Population After Crossover=  ['111111', '110111', '011111', '111111']\n",
            "Population After Mutation=  ['111101', '110101', '110111', '111011']\n",
            "Fitness Score=  [0.8333333333333334, 0.6666666666666666, 0.8333333333333334, 0.8333333333333334]\n"
          ]
        }
      ]
    },
    {
      "cell_type": "code",
      "source": [],
      "metadata": {
        "id": "VsglmpPzCauR"
      },
      "execution_count": null,
      "outputs": []
    }
  ]
}